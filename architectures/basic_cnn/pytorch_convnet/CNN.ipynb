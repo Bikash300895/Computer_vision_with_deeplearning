{
 "cells": [
  {
   "cell_type": "code",
   "execution_count": 16,
   "metadata": {
    "collapsed": true
   },
   "outputs": [],
   "source": [
    "import torch\n",
    "import torch.nn as nn\n",
    "import torchvision.datasets as dsets\n",
    "import torchvision.transforms as transforms\n",
    "from torch.autograd import Variable\n",
    "import torchvision"
   ]
  },
  {
   "cell_type": "markdown",
   "metadata": {},
   "source": [
    "# Load datasets"
   ]
  },
  {
   "cell_type": "code",
   "execution_count": 5,
   "metadata": {},
   "outputs": [],
   "source": [
    "train_dataset = dsets.MNIST('C:\\\\Users\\\\user\\\\Documents\\\\datasets\\\\mnist', \n",
    "                            train=True,  \n",
    "                            transform=transforms.ToTensor(), \n",
    "                            download=True)\n",
    "\n",
    "test_dataset = dsets.MNIST('C:\\\\Users\\\\user\\\\Documents\\\\datasets\\\\mnist', \n",
    "                           train=False, \n",
    "                           transform=transforms.ToTensor(),\n",
    "                           download=True)"
   ]
  },
  {
   "cell_type": "code",
   "execution_count": 6,
   "metadata": {
    "collapsed": true
   },
   "outputs": [],
   "source": [
    "# Data loader\n",
    "train_loader = torch.utils.data.DataLoader(dataset=train_dataset, batch_size=64, shuffle=True)\n",
    "test_loader = torch.utils.data.DataLoader(dataset=test_dataset, batch_size=64)"
   ]
  },
  {
   "cell_type": "code",
   "execution_count": 28,
   "metadata": {},
   "outputs": [],
   "source": [
    "import matplotlib.pyplot as plt\n",
    "import numpy as np\n",
    "\n",
    "%matplotlib inline"
   ]
  },
  {
   "cell_type": "markdown",
   "metadata": {},
   "source": [
    "### Inspect data"
   ]
  },
  {
   "cell_type": "code",
   "execution_count": 8,
   "metadata": {
    "collapsed": true
   },
   "outputs": [],
   "source": [
    "dataiter = iter(train_loader)\n",
    "images, labels = dataiter.next()"
   ]
  },
  {
   "cell_type": "code",
   "execution_count": 35,
   "metadata": {},
   "outputs": [
    {
     "data": {
      "text/plain": [
       "<matplotlib.image.AxesImage at 0x22d2ef07940>"
      ]
     },
     "execution_count": 35,
     "metadata": {},
     "output_type": "execute_result"
    },
    {
     "data": {
      "image/png": "[encoded data removed]",
      "text/plain": [
       "<matplotlib.figure.Figure at 0x22d2ed57e48>"
      ]
     },
     "metadata": {},
     "output_type": "display_data"
    }
   ],
   "source": [
    "type(images)                    # torch.FloatTensor\n",
    "npimg = image.numpy()           # (1, 28, 28)\n",
    "npimg = npimg.reshape(28, 28)   # (28, 28)\n",
    "plt.imshow(npimg)"
   ]
  },
  {
   "cell_type": "markdown",
   "metadata": {},
   "source": [
    "# Defining the model"
   ]
  },
  {
   "cell_type": "code",
   "execution_count": 37,
   "metadata": {},
   "outputs": [],
   "source": [
    "class CNN(nn.Module):\n",
    "    \n",
    "    def __init__(self):\n",
    "        super(CNN, self).__init__()\n",
    "        \n",
    "        self.layer1 = nn.Sequential(\n",
    "            nn.Conv2d(1, 16, kernel_size=5, padding=2),\n",
    "            nn.BatchNorm2d(16),\n",
    "            nn.ReLU(),\n",
    "            nn.MaxPool2d(2)\n",
    "        )\n",
    "        \n",
    "        self.layer2 = nn.Sequential(\n",
    "            nn.Conv2d(16, 32, kernel_size=5, padding=2),\n",
    "            nn.BatchNorm2d(32),\n",
    "            nn.ReLU(),\n",
    "            nn.MaxPool2d(2)\n",
    "        )\n",
    "        \n",
    "        self.fc = nn.Linear(7*7*32, 10)\n",
    "        \n",
    "    def forward(self, x):\n",
    "        out = self.layer1(x)\n",
    "        out = self.layer2(out)\n",
    "        out = out.view(out.size(0), -1)\n",
    "        out = self.fc(out)\n",
    "        \n",
    "        return out"
   ]
  },
  {
   "cell_type": "code",
   "execution_count": 38,
   "metadata": {
    "collapsed": true
   },
   "outputs": [],
   "source": [
    "model = CNN()"
   ]
  },
  {
   "cell_type": "markdown",
   "metadata": {},
   "source": [
    "# Loss and optimizer"
   ]
  },
  {
   "cell_type": "code",
   "execution_count": 49,
   "metadata": {
    "collapsed": true
   },
   "outputs": [],
   "source": [
    "criterion = nn.CrossEntropyLoss()\n",
    "optimizer = torch.optim.Adam(model.parameters(), lr=0.001)"
   ]
  },
  {
   "cell_type": "markdown",
   "metadata": {},
   "source": [
    "# Training the model"
   ]
  },
  {
   "cell_type": "code",
   "execution_count": 50,
   "metadata": {},
   "outputs": [
    {
     "name": "stdout",
     "output_type": "stream",
     "text": [
      "Epoch [1/5], Iter [100/937] Loss: 0.0932\n",
      "Epoch [1/5], Iter [200/937] Loss: 0.1275\n",
      "Epoch [1/5], Iter [300/937] Loss: 0.0293\n",
      "Epoch [1/5], Iter [400/937] Loss: 0.0233\n",
      "Epoch [1/5], Iter [500/937] Loss: 0.1174\n",
      "Epoch [1/5], Iter [600/937] Loss: 0.0496\n",
      "Epoch [1/5], Iter [700/937] Loss: 0.0210\n",
      "Epoch [1/5], Iter [800/937] Loss: 0.0499\n",
      "Epoch [1/5], Iter [900/937] Loss: 0.0671\n",
      "Epoch [2/5], Iter [100/937] Loss: 0.0179\n",
      "Epoch [2/5], Iter [200/937] Loss: 0.0317\n",
      "Epoch [2/5], Iter [300/937] Loss: 0.0150\n",
      "Epoch [2/5], Iter [400/937] Loss: 0.0093\n",
      "Epoch [2/5], Iter [500/937] Loss: 0.0061\n",
      "Epoch [2/5], Iter [600/937] Loss: 0.0469\n",
      "Epoch [2/5], Iter [700/937] Loss: 0.0924\n",
      "Epoch [2/5], Iter [800/937] Loss: 0.0058\n",
      "Epoch [2/5], Iter [900/937] Loss: 0.1312\n",
      "Epoch [3/5], Iter [100/937] Loss: 0.0099\n",
      "Epoch [3/5], Iter [200/937] Loss: 0.4062\n",
      "Epoch [3/5], Iter [300/937] Loss: 0.0064\n",
      "Epoch [3/5], Iter [400/937] Loss: 0.0139\n",
      "Epoch [3/5], Iter [500/937] Loss: 0.0867\n",
      "Epoch [3/5], Iter [600/937] Loss: 0.0017\n",
      "Epoch [3/5], Iter [700/937] Loss: 0.0498\n",
      "Epoch [3/5], Iter [800/937] Loss: 0.0087\n",
      "Epoch [3/5], Iter [900/937] Loss: 0.0047\n",
      "Epoch [4/5], Iter [100/937] Loss: 0.0053\n",
      "Epoch [4/5], Iter [200/937] Loss: 0.0209\n",
      "Epoch [4/5], Iter [300/937] Loss: 0.0017\n",
      "Epoch [4/5], Iter [400/937] Loss: 0.0663\n",
      "Epoch [4/5], Iter [500/937] Loss: 0.1351\n",
      "Epoch [4/5], Iter [600/937] Loss: 0.0212\n",
      "Epoch [4/5], Iter [700/937] Loss: 0.0057\n",
      "Epoch [4/5], Iter [800/937] Loss: 0.0177\n",
      "Epoch [4/5], Iter [900/937] Loss: 0.0069\n",
      "Epoch [5/5], Iter [100/937] Loss: 0.0074\n",
      "Epoch [5/5], Iter [200/937] Loss: 0.0046\n",
      "Epoch [5/5], Iter [300/937] Loss: 0.0066\n",
      "Epoch [5/5], Iter [400/937] Loss: 0.0033\n",
      "Epoch [5/5], Iter [500/937] Loss: 0.0014\n",
      "Epoch [5/5], Iter [600/937] Loss: 0.0024\n",
      "Epoch [5/5], Iter [700/937] Loss: 0.0120\n",
      "Epoch [5/5], Iter [800/937] Loss: 0.0033\n",
      "Epoch [5/5], Iter [900/937] Loss: 0.0152\n"
     ]
    }
   ],
   "source": [
    "for epoch in range(5):\n",
    "    for i, (images, labels) in enumerate(train_loader):\n",
    "        images = Variable(images)\n",
    "        labels = Variable(labels)\n",
    "        \n",
    "        optimizer.zero_grad()\n",
    "        outputs = model(images)\n",
    "        loss = criterion(outputs, labels)\n",
    "        loss.backward()\n",
    "        optimizer.step()\n",
    "        \n",
    "        if (i+1) % 100 == 0:\n",
    "            print ('Epoch [%d/%d], Iter [%d/%d] Loss: %.4f' \n",
    "                   %(epoch+1, 5, i+1, len(train_dataset)//64, loss.data[0]))"
   ]
  },
  {
   "cell_type": "code",
   "execution_count": null,
   "metadata": {
    "collapsed": true
   },
   "outputs": [],
   "source": []
  }
 ],
 "metadata": {
  "kernelspec": {
   "display_name": "Python [conda root]",
   "language": "python",
   "name": "conda-root-py"
  },
  "language_info": {
   "codemirror_mode": {
    "name": "ipython",
    "version": 3
   },
   "file_extension": ".py",
   "mimetype": "text/x-python",
   "name": "python",
   "nbconvert_exporter": "python",
   "pygments_lexer": "ipython3",
   "version": "3.5.4"
  }
 },
 "nbformat": 4,
 "nbformat_minor": 2
}
